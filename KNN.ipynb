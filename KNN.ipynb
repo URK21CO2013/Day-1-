{
  "nbformat": 4,
  "nbformat_minor": 0,
  "metadata": {
    "colab": {
      "provenance": []
    },
    "kernelspec": {
      "name": "python3",
      "display_name": "Python 3"
    },
    "language_info": {
      "name": "python"
    }
  },
  "cells": [
    {
      "cell_type": "code",
      "execution_count": null,
      "metadata": {
        "colab": {
          "base_uri": "https://localhost:8080/",
          "height": 441
        },
        "id": "-WfpV4kicJDi",
        "outputId": "6b80572b-bdb8-4521-dd75-b1bdb46141cb"
      },
      "outputs": [
        {
          "output_type": "stream",
          "name": "stdout",
          "text": [
            "Mounted at /content/drive\n"
          ]
        },
        {
          "output_type": "execute_result",
          "data": {
            "text/plain": [
              "      User ID  Gender  Age  EstimatedSalary Purchased\n",
              "0    15668575       0   26            43000        No\n",
              "1    15603246       0   27            57000        No\n",
              "2    15598044       0   27            84000        No\n",
              "3    15727311       0   35            65000        No\n",
              "4    15570769       0   26            80000        No\n",
              "..        ...     ...  ...              ...       ...\n",
              "395  15672330       1   47            34000       Yes\n",
              "396  15807837       1   48            33000       Yes\n",
              "397  15592570       1   47            23000       Yes\n",
              "398  15635893       1   60            42000       Yes\n",
              "399  15706071       1   51            23000       Yes\n",
              "\n",
              "[400 rows x 5 columns]"
            ],
            "text/html": [
              "\n",
              "  <div id=\"df-0a7b03ae-6952-45cf-8f57-e753d2dce937\">\n",
              "    <div class=\"colab-df-container\">\n",
              "      <div>\n",
              "<style scoped>\n",
              "    .dataframe tbody tr th:only-of-type {\n",
              "        vertical-align: middle;\n",
              "    }\n",
              "\n",
              "    .dataframe tbody tr th {\n",
              "        vertical-align: top;\n",
              "    }\n",
              "\n",
              "    .dataframe thead th {\n",
              "        text-align: right;\n",
              "    }\n",
              "</style>\n",
              "<table border=\"1\" class=\"dataframe\">\n",
              "  <thead>\n",
              "    <tr style=\"text-align: right;\">\n",
              "      <th></th>\n",
              "      <th>User ID</th>\n",
              "      <th>Gender</th>\n",
              "      <th>Age</th>\n",
              "      <th>EstimatedSalary</th>\n",
              "      <th>Purchased</th>\n",
              "    </tr>\n",
              "  </thead>\n",
              "  <tbody>\n",
              "    <tr>\n",
              "      <th>0</th>\n",
              "      <td>15668575</td>\n",
              "      <td>0</td>\n",
              "      <td>26</td>\n",
              "      <td>43000</td>\n",
              "      <td>No</td>\n",
              "    </tr>\n",
              "    <tr>\n",
              "      <th>1</th>\n",
              "      <td>15603246</td>\n",
              "      <td>0</td>\n",
              "      <td>27</td>\n",
              "      <td>57000</td>\n",
              "      <td>No</td>\n",
              "    </tr>\n",
              "    <tr>\n",
              "      <th>2</th>\n",
              "      <td>15598044</td>\n",
              "      <td>0</td>\n",
              "      <td>27</td>\n",
              "      <td>84000</td>\n",
              "      <td>No</td>\n",
              "    </tr>\n",
              "    <tr>\n",
              "      <th>3</th>\n",
              "      <td>15727311</td>\n",
              "      <td>0</td>\n",
              "      <td>35</td>\n",
              "      <td>65000</td>\n",
              "      <td>No</td>\n",
              "    </tr>\n",
              "    <tr>\n",
              "      <th>4</th>\n",
              "      <td>15570769</td>\n",
              "      <td>0</td>\n",
              "      <td>26</td>\n",
              "      <td>80000</td>\n",
              "      <td>No</td>\n",
              "    </tr>\n",
              "    <tr>\n",
              "      <th>...</th>\n",
              "      <td>...</td>\n",
              "      <td>...</td>\n",
              "      <td>...</td>\n",
              "      <td>...</td>\n",
              "      <td>...</td>\n",
              "    </tr>\n",
              "    <tr>\n",
              "      <th>395</th>\n",
              "      <td>15672330</td>\n",
              "      <td>1</td>\n",
              "      <td>47</td>\n",
              "      <td>34000</td>\n",
              "      <td>Yes</td>\n",
              "    </tr>\n",
              "    <tr>\n",
              "      <th>396</th>\n",
              "      <td>15807837</td>\n",
              "      <td>1</td>\n",
              "      <td>48</td>\n",
              "      <td>33000</td>\n",
              "      <td>Yes</td>\n",
              "    </tr>\n",
              "    <tr>\n",
              "      <th>397</th>\n",
              "      <td>15592570</td>\n",
              "      <td>1</td>\n",
              "      <td>47</td>\n",
              "      <td>23000</td>\n",
              "      <td>Yes</td>\n",
              "    </tr>\n",
              "    <tr>\n",
              "      <th>398</th>\n",
              "      <td>15635893</td>\n",
              "      <td>1</td>\n",
              "      <td>60</td>\n",
              "      <td>42000</td>\n",
              "      <td>Yes</td>\n",
              "    </tr>\n",
              "    <tr>\n",
              "      <th>399</th>\n",
              "      <td>15706071</td>\n",
              "      <td>1</td>\n",
              "      <td>51</td>\n",
              "      <td>23000</td>\n",
              "      <td>Yes</td>\n",
              "    </tr>\n",
              "  </tbody>\n",
              "</table>\n",
              "<p>400 rows × 5 columns</p>\n",
              "</div>\n",
              "      <button class=\"colab-df-convert\" onclick=\"convertToInteractive('df-0a7b03ae-6952-45cf-8f57-e753d2dce937')\"\n",
              "              title=\"Convert this dataframe to an interactive table.\"\n",
              "              style=\"display:none;\">\n",
              "        \n",
              "  <svg xmlns=\"http://www.w3.org/2000/svg\" height=\"24px\"viewBox=\"0 0 24 24\"\n",
              "       width=\"24px\">\n",
              "    <path d=\"M0 0h24v24H0V0z\" fill=\"none\"/>\n",
              "    <path d=\"M18.56 5.44l.94 2.06.94-2.06 2.06-.94-2.06-.94-.94-2.06-.94 2.06-2.06.94zm-11 1L8.5 8.5l.94-2.06 2.06-.94-2.06-.94L8.5 2.5l-.94 2.06-2.06.94zm10 10l.94 2.06.94-2.06 2.06-.94-2.06-.94-.94-2.06-.94 2.06-2.06.94z\"/><path d=\"M17.41 7.96l-1.37-1.37c-.4-.4-.92-.59-1.43-.59-.52 0-1.04.2-1.43.59L10.3 9.45l-7.72 7.72c-.78.78-.78 2.05 0 2.83L4 21.41c.39.39.9.59 1.41.59.51 0 1.02-.2 1.41-.59l7.78-7.78 2.81-2.81c.8-.78.8-2.07 0-2.86zM5.41 20L4 18.59l7.72-7.72 1.47 1.35L5.41 20z\"/>\n",
              "  </svg>\n",
              "      </button>\n",
              "      \n",
              "  <style>\n",
              "    .colab-df-container {\n",
              "      display:flex;\n",
              "      flex-wrap:wrap;\n",
              "      gap: 12px;\n",
              "    }\n",
              "\n",
              "    .colab-df-convert {\n",
              "      background-color: #E8F0FE;\n",
              "      border: none;\n",
              "      border-radius: 50%;\n",
              "      cursor: pointer;\n",
              "      display: none;\n",
              "      fill: #1967D2;\n",
              "      height: 32px;\n",
              "      padding: 0 0 0 0;\n",
              "      width: 32px;\n",
              "    }\n",
              "\n",
              "    .colab-df-convert:hover {\n",
              "      background-color: #E2EBFA;\n",
              "      box-shadow: 0px 1px 2px rgba(60, 64, 67, 0.3), 0px 1px 3px 1px rgba(60, 64, 67, 0.15);\n",
              "      fill: #174EA6;\n",
              "    }\n",
              "\n",
              "    [theme=dark] .colab-df-convert {\n",
              "      background-color: #3B4455;\n",
              "      fill: #D2E3FC;\n",
              "    }\n",
              "\n",
              "    [theme=dark] .colab-df-convert:hover {\n",
              "      background-color: #434B5C;\n",
              "      box-shadow: 0px 1px 3px 1px rgba(0, 0, 0, 0.15);\n",
              "      filter: drop-shadow(0px 1px 2px rgba(0, 0, 0, 0.3));\n",
              "      fill: #FFFFFF;\n",
              "    }\n",
              "  </style>\n",
              "\n",
              "      <script>\n",
              "        const buttonEl =\n",
              "          document.querySelector('#df-0a7b03ae-6952-45cf-8f57-e753d2dce937 button.colab-df-convert');\n",
              "        buttonEl.style.display =\n",
              "          google.colab.kernel.accessAllowed ? 'block' : 'none';\n",
              "\n",
              "        async function convertToInteractive(key) {\n",
              "          const element = document.querySelector('#df-0a7b03ae-6952-45cf-8f57-e753d2dce937');\n",
              "          const dataTable =\n",
              "            await google.colab.kernel.invokeFunction('convertToInteractive',\n",
              "                                                     [key], {});\n",
              "          if (!dataTable) return;\n",
              "\n",
              "          const docLinkHtml = 'Like what you see? Visit the ' +\n",
              "            '<a target=\"_blank\" href=https://colab.research.google.com/notebooks/data_table.ipynb>data table notebook</a>'\n",
              "            + ' to learn more about interactive tables.';\n",
              "          element.innerHTML = '';\n",
              "          dataTable['output_type'] = 'display_data';\n",
              "          await google.colab.output.renderOutput(dataTable, element);\n",
              "          const docLink = document.createElement('div');\n",
              "          docLink.innerHTML = docLinkHtml;\n",
              "          element.appendChild(docLink);\n",
              "        }\n",
              "      </script>\n",
              "    </div>\n",
              "  </div>\n",
              "  "
            ]
          },
          "metadata": {},
          "execution_count": 13
        }
      ],
      "source": [
        "import pandas as pd\n",
        "from google.colab import drive\n",
        "drive.mount('/content/drive', force_remount = True)\n",
        "path = \"drive/My Drive/Colab Notebooks/Social_Network.csv\"\n",
        "df = pd.read_csv(path)\n",
        "df"
      ]
    },
    {
      "cell_type": "code",
      "source": [
        "import numpy as np\n",
        "from sklearn.model_selection import train_test_split\n",
        "from sklearn.preprocessing import StandardScaler\n",
        "from sklearn.neighbors import KNeighborsClassifier\n",
        "from sklearn.metrics import confusion_matrix\n",
        "from sklearn.metrics import accuracy_score\n",
        "from sklearn.metrics import classification_report, roc_curve, auc\n",
        "import matplotlib.pyplot as plt"
      ],
      "metadata": {
        "id": "sGRxroffc5ud"
      },
      "execution_count": null,
      "outputs": []
    },
    {
      "cell_type": "code",
      "source": [
        "df.dropna(inplace = True)"
      ],
      "metadata": {
        "id": "EmLjTF-3dCst"
      },
      "execution_count": null,
      "outputs": []
    },
    {
      "cell_type": "code",
      "source": [
        "#a\n",
        "x=df.iloc[:, 1:4].values\n",
        "print(x[0:10])"
      ],
      "metadata": {
        "colab": {
          "base_uri": "https://localhost:8080/"
        },
        "id": "8G-oGe5DdHIh",
        "outputId": "8055c643-7a64-402e-c74b-b2b78cc75ac7"
      },
      "execution_count": null,
      "outputs": [
        {
          "output_type": "stream",
          "name": "stdout",
          "text": [
            "[[    0    26 43000]\n",
            " [    0    27 57000]\n",
            " [    0    27 84000]\n",
            " [    0    35 65000]\n",
            " [    0    26 80000]\n",
            " [    0    26 52000]\n",
            " [    0    21 16000]\n",
            " [    0    28 44000]\n",
            " [    0    33 28000]\n",
            " [    0    26 72000]]\n"
          ]
        }
      ]
    },
    {
      "cell_type": "code",
      "source": [
        "#b\n",
        "df['Purchased']= df['Purchased'].replace({'Yes': 0 , 'No': 1})\n",
        "df['Purchased']"
      ],
      "metadata": {
        "colab": {
          "base_uri": "https://localhost:8080/"
        },
        "id": "hkejU7gudXKh",
        "outputId": "60565f7a-162d-41ee-a60c-b6b7910f7178"
      },
      "execution_count": null,
      "outputs": [
        {
          "output_type": "execute_result",
          "data": {
            "text/plain": [
              "0      1\n",
              "1      1\n",
              "2      1\n",
              "3      1\n",
              "4      1\n",
              "      ..\n",
              "395    0\n",
              "396    0\n",
              "397    0\n",
              "398    0\n",
              "399    0\n",
              "Name: Purchased, Length: 400, dtype: int64"
            ]
          },
          "metadata": {},
          "execution_count": 19
        }
      ]
    },
    {
      "cell_type": "code",
      "source": [
        "#c\n",
        "y = df.iloc[:, 4].values\n",
        "print(y[0:10])"
      ],
      "metadata": {
        "colab": {
          "base_uri": "https://localhost:8080/"
        },
        "id": "bz53AMO5fD4i",
        "outputId": "dae61d9a-4ea4-4be0-d71b-1545271f48ae"
      },
      "execution_count": null,
      "outputs": [
        {
          "output_type": "stream",
          "name": "stdout",
          "text": [
            "[1 1 1 1 1 1 1 1 1 1]\n"
          ]
        }
      ]
    },
    {
      "cell_type": "code",
      "source": [
        "#d\n",
        "x_train, x_test, y_train, y_test = train_test_split(x, y, test_size = 0.25, random_state=1)\n"
      ],
      "metadata": {
        "id": "jFqUQi4wg1LW"
      },
      "execution_count": null,
      "outputs": []
    },
    {
      "cell_type": "code",
      "source": [
        "print(x_train)"
      ],
      "metadata": {
        "colab": {
          "base_uri": "https://localhost:8080/"
        },
        "id": "6MJ0Qohfg9Bb",
        "outputId": "ac572ac1-a31f-4754-e74c-370f669c2478"
      },
      "execution_count": null,
      "outputs": [
        {
          "output_type": "stream",
          "name": "stdout",
          "text": [
            "[[     0     30  79000]\n",
            " [     1     49  89000]\n",
            " [     1     35  53000]\n",
            " [     0     22  63000]\n",
            " [     0     46  96000]\n",
            " [     0     47 107000]\n",
            " [     0     34  72000]\n",
            " [     1     38  71000]\n",
            " [     0     48 138000]\n",
            " [     1     38  61000]\n",
            " [     0     37  57000]\n",
            " [     1     57  60000]\n",
            " [     0     44  39000]\n",
            " [     1     38  51000]\n",
            " [     1     28  79000]\n",
            " [     0     35  60000]\n",
            " [     0     54  26000]\n",
            " [     1     35  75000]\n",
            " [     1     23  63000]\n",
            " [     1     47  34000]\n",
            " [     0     29  83000]\n",
            " [     1     21  72000]\n",
            " [     1     60  34000]\n",
            " [     1     49  65000]\n",
            " [     1     35  91000]\n",
            " [     0     34  25000]\n",
            " [     0     41  72000]\n",
            " [     0     33  51000]\n",
            " [     0     48  30000]\n",
            " [     1     51  23000]\n",
            " [     0     49  36000]\n",
            " [     0     52  38000]\n",
            " [     1     46 117000]\n",
            " [     0     45 131000]\n",
            " [     1     42 149000]\n",
            " [     0     59  88000]\n",
            " [     0     59  42000]\n",
            " [     1     25  33000]\n",
            " [     0     46  74000]\n",
            " [     1     36 118000]\n",
            " [     0     27  54000]\n",
            " [     1     22  81000]\n",
            " [     0     37  80000]\n",
            " [     1     31  74000]\n",
            " [     0     38  50000]\n",
            " [     0     41  51000]\n",
            " [     0     39  79000]\n",
            " [     0     26  72000]\n",
            " [     1     30  87000]\n",
            " [     0     24  32000]\n",
            " [     1     49  88000]\n",
            " [     0     26  43000]\n",
            " [     0     35  57000]\n",
            " [     1     35  59000]\n",
            " [     1     29  43000]\n",
            " [     1     47  20000]\n",
            " [     0     29  47000]\n",
            " [     0     29  28000]\n",
            " [     1     24  58000]\n",
            " [     1     35  72000]\n",
            " [     1     26  15000]\n",
            " [     1     35  79000]\n",
            " [     1     58 144000]\n",
            " [     1     25  79000]\n",
            " [     1     37  75000]\n",
            " [     0     28  37000]\n",
            " [     1     26  81000]\n",
            " [     1     40  75000]\n",
            " [     1     29  61000]\n",
            " [     1     45  79000]\n",
            " [     1     34 112000]\n",
            " [     1     48  33000]\n",
            " [     0     45  45000]\n",
            " [     0     52  90000]\n",
            " [     1     20  74000]\n",
            " [     1     22  18000]\n",
            " [     0     49 141000]\n",
            " [     0     41  72000]\n",
            " [     0     26  17000]\n",
            " [     0     42  70000]\n",
            " [     1     36  52000]\n",
            " [     1     42  65000]\n",
            " [     1     29  80000]\n",
            " [     1     39  96000]\n",
            " [     1     18  52000]\n",
            " [     0     35  23000]\n",
            " [     1     35 108000]\n",
            " [     1     35  88000]\n",
            " [     0     60 108000]\n",
            " [     0     19  21000]\n",
            " [     0     40 142000]\n",
            " [     1     41  79000]\n",
            " [     1     39  77000]\n",
            " [     0     51 134000]\n",
            " [     1     28 123000]\n",
            " [     1     26  86000]\n",
            " [     0     20  82000]\n",
            " [     1     39 122000]\n",
            " [     0     41  71000]\n",
            " [     0     33  28000]\n",
            " [     1     37  70000]\n",
            " [     0     50  44000]\n",
            " [     1     29 148000]\n",
            " [     0     48  35000]\n",
            " [     0     59  29000]\n",
            " [     0     31  68000]\n",
            " [     0     33 113000]\n",
            " [     0     28  55000]\n",
            " [     1     37  52000]\n",
            " [     0     22  27000]\n",
            " [     0     36 126000]\n",
            " [     0     37  71000]\n",
            " [     0     46  41000]\n",
            " [     0     32 150000]\n",
            " [     1     49  28000]\n",
            " [     0     28  87000]\n",
            " [     0     32 117000]\n",
            " [     0     30  62000]\n",
            " [     0     47 113000]\n",
            " [     0     36  50000]\n",
            " [     1     20  49000]\n",
            " [     1     35  20000]\n",
            " [     0     38  80000]\n",
            " [     1     40  61000]\n",
            " [     0     33  69000]\n",
            " [     1     36  33000]\n",
            " [     1     52 150000]\n",
            " [     0     47  30000]\n",
            " [     1     47 105000]\n",
            " [     1     59 130000]\n",
            " [     0     60  46000]\n",
            " [     0     26  35000]\n",
            " [     1     33  43000]\n",
            " [     1     27  89000]\n",
            " [     0     50  20000]\n",
            " [     0     39  71000]\n",
            " [     0     41  60000]\n",
            " [     1     41  59000]\n",
            " [     1     35  58000]\n",
            " [     0     39  75000]\n",
            " [     0     35  44000]\n",
            " [     0     24  55000]\n",
            " [     0     35  77000]\n",
            " [     1     35  73000]\n",
            " [     0     35  71000]\n",
            " [     0     26  84000]\n",
            " [     1     25  90000]\n",
            " [     1     54  70000]\n",
            " [     1     31  18000]\n",
            " [     0     23  66000]\n",
            " [     0     58  23000]\n",
            " [     1     19  25000]\n",
            " [     1     33  31000]\n",
            " [     1     26  16000]\n",
            " [     1     18  82000]\n",
            " [     0     53  34000]\n",
            " [     0     38  55000]\n",
            " [     1     19  70000]\n",
            " [     1     39 106000]\n",
            " [     1     32 120000]\n",
            " [     1     45  22000]\n",
            " [     1     37  74000]\n",
            " [     1     35  39000]\n",
            " [     0     20  82000]\n",
            " [     0     54 108000]\n",
            " [     0     50  36000]\n",
            " [     0     57  26000]\n",
            " [     1     26  32000]\n",
            " [     0     35  50000]\n",
            " [     0     42  75000]\n",
            " [     0     41  63000]\n",
            " [     0     58  38000]\n",
            " [     1     38  61000]\n",
            " [     1     30 107000]\n",
            " [     0     21  68000]\n",
            " [     1     40  59000]\n",
            " [     1     31  76000]\n",
            " [     1     26  30000]\n",
            " [     1     30  17000]\n",
            " [     0     57  33000]\n",
            " [     0     43 133000]\n",
            " [     1     47  43000]\n",
            " [     1     27  58000]\n",
            " [     0     47 144000]\n",
            " [     0     24  89000]\n",
            " [     0     37  80000]\n",
            " [     1     41  45000]\n",
            " [     1     35  27000]\n",
            " [     1     27  20000]\n",
            " [     1     34 115000]\n",
            " [     1     25  80000]\n",
            " [     0     44 139000]\n",
            " [     0     27  31000]\n",
            " [     0     58 101000]\n",
            " [     0     41  72000]\n",
            " [     1     24  84000]\n",
            " [     1     35  55000]\n",
            " [     0     28  59000]\n",
            " [     0     54 104000]\n",
            " [     0     28  85000]\n",
            " [     1     36 144000]\n",
            " [     0     27  58000]\n",
            " [     1     60 102000]\n",
            " [     0     35  47000]\n",
            " [     1     35  38000]\n",
            " [     0     31  71000]\n",
            " [     0     31 118000]\n",
            " [     1     56  60000]\n",
            " [     1     25  87000]\n",
            " [     1     45  32000]\n",
            " [     0     27  84000]\n",
            " [     0     39  61000]\n",
            " [     0     27 137000]\n",
            " [     1     38  71000]\n",
            " [     0     47  49000]\n",
            " [     1     31  58000]\n",
            " [     1     24  19000]\n",
            " [     1     57  74000]\n",
            " [     0     37 137000]\n",
            " [     1     30  89000]\n",
            " [     0     23  28000]\n",
            " [     1     41  72000]\n",
            " [     1     43 129000]\n",
            " [     0     46  22000]\n",
            " [     1     42  54000]\n",
            " [     1     30  15000]\n",
            " [     1     47  25000]\n",
            " [     0     32 135000]\n",
            " [     0     55 125000]\n",
            " [     1     29  43000]\n",
            " [     1     28  59000]\n",
            " [     0     20  36000]\n",
            " [     1     49  86000]\n",
            " [     1     30  80000]\n",
            " [     0     56 104000]\n",
            " [     0     39  59000]\n",
            " [     1     40  47000]\n",
            " [     0     27  96000]\n",
            " [     1     42  73000]\n",
            " [     0     37  62000]\n",
            " [     1     32  18000]\n",
            " [     0     35  97000]\n",
            " [     1     38  59000]\n",
            " [     0     59  83000]\n",
            " [     1     46  59000]\n",
            " [     0     31  15000]\n",
            " [     0     31  89000]\n",
            " [     0     37  93000]\n",
            " [     0     38  50000]\n",
            " [     1     46  28000]\n",
            " [     0     53  82000]\n",
            " [     0     23  82000]\n",
            " [     0     31  34000]\n",
            " [     0     32  86000]\n",
            " [     0     51 146000]\n",
            " [     0     35  65000]\n",
            " [     1     55  39000]\n",
            " [     0     36  75000]\n",
            " [     1     46  88000]\n",
            " [     0     20  23000]\n",
            " [     0     42  79000]\n",
            " [     0     36  54000]\n",
            " [     1     36 125000]\n",
            " [     1     35  22000]\n",
            " [     0     33 149000]\n",
            " [     1     28  32000]\n",
            " [     0     38 113000]\n",
            " [     0     27  57000]\n",
            " [     0     53 104000]\n",
            " [     0     23  48000]\n",
            " [     0     42  90000]\n",
            " [     0     47  50000]\n",
            " [     0     28  44000]\n",
            " [     1     30  49000]\n",
            " [     0     52 114000]\n",
            " [     1     37 144000]\n",
            " [     1     36  60000]\n",
            " [     1     26  80000]\n",
            " [     0     22  55000]\n",
            " [     0     40  75000]\n",
            " [     1     39  42000]\n",
            " [     1     42  54000]\n",
            " [     1     46  79000]\n",
            " [     1     42  64000]\n",
            " [     0     35 147000]\n",
            " [     1     37  72000]\n",
            " [     0     57 122000]\n",
            " [     1     37  77000]\n",
            " [     0     26 118000]\n",
            " [     1     19  76000]\n",
            " [     1     23  20000]\n",
            " [     1     45  26000]\n",
            " [     1     32  18000]\n",
            " [     1     25  22000]\n",
            " [     1     49  28000]\n",
            " [     1     39  71000]\n",
            " [     0     34  43000]\n",
            " [     1     48  33000]\n",
            " [     1     48 141000]\n",
            " [     0     30 116000]]\n"
          ]
        }
      ]
    },
    {
      "cell_type": "code",
      "source": [
        "standard_Scalar = StandardScaler()\n",
        "x_train = standard_Scalar.fit_transform(x_train)\n",
        "x_test = standard_Scalar.transform(x_test)"
      ],
      "metadata": {
        "id": "SdoCrJBHhJWZ"
      },
      "execution_count": null,
      "outputs": []
    },
    {
      "cell_type": "code",
      "source": [
        "#e\n",
        "knn = KNeighborsClassifier(n_neighbors=3)\n",
        "knn.fit(x_train,y_train)"
      ],
      "metadata": {
        "colab": {
          "base_uri": "https://localhost:8080/",
          "height": 74
        },
        "id": "60k_gxFEhoYi",
        "outputId": "5e3b7543-b845-482f-8dc4-ba2ece2bbb39"
      },
      "execution_count": null,
      "outputs": [
        {
          "output_type": "execute_result",
          "data": {
            "text/plain": [
              "KNeighborsClassifier(n_neighbors=3)"
            ],
            "text/html": [
              "<style>#sk-container-id-7 {color: black;background-color: white;}#sk-container-id-7 pre{padding: 0;}#sk-container-id-7 div.sk-toggleable {background-color: white;}#sk-container-id-7 label.sk-toggleable__label {cursor: pointer;display: block;width: 100%;margin-bottom: 0;padding: 0.3em;box-sizing: border-box;text-align: center;}#sk-container-id-7 label.sk-toggleable__label-arrow:before {content: \"▸\";float: left;margin-right: 0.25em;color: #696969;}#sk-container-id-7 label.sk-toggleable__label-arrow:hover:before {color: black;}#sk-container-id-7 div.sk-estimator:hover label.sk-toggleable__label-arrow:before {color: black;}#sk-container-id-7 div.sk-toggleable__content {max-height: 0;max-width: 0;overflow: hidden;text-align: left;background-color: #f0f8ff;}#sk-container-id-7 div.sk-toggleable__content pre {margin: 0.2em;color: black;border-radius: 0.25em;background-color: #f0f8ff;}#sk-container-id-7 input.sk-toggleable__control:checked~div.sk-toggleable__content {max-height: 200px;max-width: 100%;overflow: auto;}#sk-container-id-7 input.sk-toggleable__control:checked~label.sk-toggleable__label-arrow:before {content: \"▾\";}#sk-container-id-7 div.sk-estimator input.sk-toggleable__control:checked~label.sk-toggleable__label {background-color: #d4ebff;}#sk-container-id-7 div.sk-label input.sk-toggleable__control:checked~label.sk-toggleable__label {background-color: #d4ebff;}#sk-container-id-7 input.sk-hidden--visually {border: 0;clip: rect(1px 1px 1px 1px);clip: rect(1px, 1px, 1px, 1px);height: 1px;margin: -1px;overflow: hidden;padding: 0;position: absolute;width: 1px;}#sk-container-id-7 div.sk-estimator {font-family: monospace;background-color: #f0f8ff;border: 1px dotted black;border-radius: 0.25em;box-sizing: border-box;margin-bottom: 0.5em;}#sk-container-id-7 div.sk-estimator:hover {background-color: #d4ebff;}#sk-container-id-7 div.sk-parallel-item::after {content: \"\";width: 100%;border-bottom: 1px solid gray;flex-grow: 1;}#sk-container-id-7 div.sk-label:hover label.sk-toggleable__label {background-color: #d4ebff;}#sk-container-id-7 div.sk-serial::before {content: \"\";position: absolute;border-left: 1px solid gray;box-sizing: border-box;top: 0;bottom: 0;left: 50%;z-index: 0;}#sk-container-id-7 div.sk-serial {display: flex;flex-direction: column;align-items: center;background-color: white;padding-right: 0.2em;padding-left: 0.2em;position: relative;}#sk-container-id-7 div.sk-item {position: relative;z-index: 1;}#sk-container-id-7 div.sk-parallel {display: flex;align-items: stretch;justify-content: center;background-color: white;position: relative;}#sk-container-id-7 div.sk-item::before, #sk-container-id-7 div.sk-parallel-item::before {content: \"\";position: absolute;border-left: 1px solid gray;box-sizing: border-box;top: 0;bottom: 0;left: 50%;z-index: -1;}#sk-container-id-7 div.sk-parallel-item {display: flex;flex-direction: column;z-index: 1;position: relative;background-color: white;}#sk-container-id-7 div.sk-parallel-item:first-child::after {align-self: flex-end;width: 50%;}#sk-container-id-7 div.sk-parallel-item:last-child::after {align-self: flex-start;width: 50%;}#sk-container-id-7 div.sk-parallel-item:only-child::after {width: 0;}#sk-container-id-7 div.sk-dashed-wrapped {border: 1px dashed gray;margin: 0 0.4em 0.5em 0.4em;box-sizing: border-box;padding-bottom: 0.4em;background-color: white;}#sk-container-id-7 div.sk-label label {font-family: monospace;font-weight: bold;display: inline-block;line-height: 1.2em;}#sk-container-id-7 div.sk-label-container {text-align: center;}#sk-container-id-7 div.sk-container {/* jupyter's `normalize.less` sets `[hidden] { display: none; }` but bootstrap.min.css set `[hidden] { display: none !important; }` so we also need the `!important` here to be able to override the default hidden behavior on the sphinx rendered scikit-learn.org. See: https://github.com/scikit-learn/scikit-learn/issues/21755 */display: inline-block !important;position: relative;}#sk-container-id-7 div.sk-text-repr-fallback {display: none;}</style><div id=\"sk-container-id-7\" class=\"sk-top-container\"><div class=\"sk-text-repr-fallback\"><pre>KNeighborsClassifier(n_neighbors=3)</pre><b>In a Jupyter environment, please rerun this cell to show the HTML representation or trust the notebook. <br />On GitHub, the HTML representation is unable to render, please try loading this page with nbviewer.org.</b></div><div class=\"sk-container\" hidden><div class=\"sk-item\"><div class=\"sk-estimator sk-toggleable\"><input class=\"sk-toggleable__control sk-hidden--visually\" id=\"sk-estimator-id-7\" type=\"checkbox\" checked><label for=\"sk-estimator-id-7\" class=\"sk-toggleable__label sk-toggleable__label-arrow\">KNeighborsClassifier</label><div class=\"sk-toggleable__content\"><pre>KNeighborsClassifier(n_neighbors=3)</pre></div></div></div></div></div>"
            ]
          },
          "metadata": {},
          "execution_count": 49
        }
      ]
    },
    {
      "cell_type": "code",
      "source": [
        "y_pred = knn.predict(x_test)\n",
        "print(y_pred)\n",
        "print(y_test)"
      ],
      "metadata": {
        "colab": {
          "base_uri": "https://localhost:8080/"
        },
        "id": "N1Bpz67EjLEg",
        "outputId": "d519361a-d0dd-41d7-9e1a-85543e212c9c"
      },
      "execution_count": null,
      "outputs": [
        {
          "output_type": "stream",
          "name": "stdout",
          "text": [
            "[0 1 0 0 1 0 1 0 1 0 1 1 1 0 0 1 1 1 1 1 1 1 0 1 1 1 0 1 0 1 1 1 1 1 1 1 1\n",
            " 1 0 1 0 1 1 1 1 0 0 0 0 0 1 1 1 1 0 0 0 1 0 0 1 1 1 1 0 1 1 0 0 0 0 1 0 0\n",
            " 1 1 1 1 1 1 0 0 1 1 1 1 0 1 1 1 1 0 0 0 1 0 0 0 0 1]\n",
            "[0 1 0 0 1 0 1 0 1 0 1 0 1 0 0 1 0 1 1 1 1 1 0 1 1 1 0 1 0 1 1 1 1 0 1 1 1\n",
            " 1 0 1 0 1 1 1 0 1 0 0 0 0 1 1 1 1 0 0 0 1 0 0 1 1 1 1 0 1 1 0 0 0 1 1 0 0\n",
            " 1 0 1 1 1 1 1 1 0 1 1 1 0 1 0 1 1 0 0 0 1 0 0 0 0 1]\n"
          ]
        }
      ]
    },
    {
      "cell_type": "code",
      "source": [
        "#f\n",
        "conf_matrix = confusion_matrix(y_test, y_pred)\n",
        "accuracy = accuracy_score(y_test, y_pred)\n",
        "report = classification_report(y_test, y_pred)"
      ],
      "metadata": {
        "id": "Rfnz2CA5mu9U"
      },
      "execution_count": null,
      "outputs": []
    },
    {
      "cell_type": "code",
      "source": [
        "# Calculate specificity, recall, precision and F1-score\n",
        "tn, fp, fn, tp = conf_matrix.ravel()\n",
        "specificity = tn / (tn + fp)\n",
        "recall = tp / (tp + fn)\n",
        "precision = tp / (tp + fp)\n",
        "f1_score = 2 * precision * recall / (precision + recall)"
      ],
      "metadata": {
        "id": "aJ3IX_0FnYmn"
      },
      "execution_count": null,
      "outputs": []
    },
    {
      "cell_type": "code",
      "source": [
        "# Plot ROC curve and calculate AUC score\n",
        "y_pred_proba = knn.predict_proba(x_test)\n",
        "fpr, tpr, thresholds = roc_curve(y_test, y_pred_proba[:, 1])\n",
        "auc_score = auc(fpr, tpr)\n",
        "plt.plot(fpr, tpr, label='ROC curve (area = %0.2f)' % auc_score)\n",
        "plt.plot([0, 1], [0, 1], 'k--')\n",
        "plt.xlabel('False Positive Rate')\n",
        "plt.ylabel('True Positive Rate')\n",
        "plt.title('Receiver Operating Characteristic (ROC) Curve')\n",
        "plt.legend(loc=\"lower right\")\n",
        "plt.show()"
      ],
      "metadata": {
        "colab": {
          "base_uri": "https://localhost:8080/",
          "height": 295
        },
        "id": "q1rbrmtlncYx",
        "outputId": "723a8f5c-ffea-485a-a5c2-1632be0d7920"
      },
      "execution_count": null,
      "outputs": [
        {
          "output_type": "display_data",
          "data": {
            "text/plain": [
              "<Figure size 432x288 with 1 Axes>"
            ],
            "image/png": "[encoded data removed]"
          },
          "metadata": {
            "needs_background": "light"
          }
        }
      ]
    },
    {
      "cell_type": "code",
      "source": [
        "print(\"Confusion Matrix:\\n\", conf_matrix)\n",
        "print(\"Accuracy: \", accuracy)\n",
        "print(\"Specificity: \", specificity)\n",
        "print(\"Recall: \", recall)\n",
        "print(\"Precision: \", precision)\n",
        "print(\"F1-score: \", f1_score)\n",
        "print(\"Classification Report:\\n\", report)\n",
        "print(\"AUC score: \", auc_score)\n",
        "print(\"True positive: \",tp)\n",
        "print(\"True negative: \", tn)"
      ],
      "metadata": {
        "colab": {
          "base_uri": "https://localhost:8080/"
        },
        "id": "9ZIHGH2WnvhN",
        "outputId": "b39adc68-efb2-4d17-8261-6b9746fa248b"
      },
      "execution_count": null,
      "outputs": [
        {
          "output_type": "stream",
          "name": "stdout",
          "text": [
            "Confusion Matrix:\n",
            " [[36  7]\n",
            " [ 4 53]]\n",
            "Accuracy:  0.89\n",
            "Specificity:  0.8372093023255814\n",
            "Recall:  0.9298245614035088\n",
            "Precision:  0.8833333333333333\n",
            "F1-score:  0.905982905982906\n",
            "Classification Report:\n",
            "               precision    recall  f1-score   support\n",
            "\n",
            "           0       0.90      0.84      0.87        43\n",
            "           1       0.88      0.93      0.91        57\n",
            "\n",
            "    accuracy                           0.89       100\n",
            "   macro avg       0.89      0.88      0.89       100\n",
            "weighted avg       0.89      0.89      0.89       100\n",
            "\n",
            "AUC score:  0.9222766217870256\n",
            "True positive:  53\n",
            "True negative:  36\n"
          ]
        }
      ]
    },
    {
      "cell_type": "code",
      "source": [
        "#h\n",
        "# k= 5\n",
        "knn = KNeighborsClassifier(n_neighbors=5)\n",
        "knn.fit(x_train,y_train)\n",
        "\n",
        "y_pred = knn.predict(x_test)\n",
        "print(y_pred)\n",
        "print(y_test)"
      ],
      "metadata": {
        "colab": {
          "base_uri": "https://localhost:8080/"
        },
        "id": "7NNvGNfIoB7D",
        "outputId": "ea3e1afe-0bc2-43ae-aa43-d6730ab6f1d9"
      },
      "execution_count": null,
      "outputs": [
        {
          "output_type": "stream",
          "name": "stdout",
          "text": [
            "[0 1 0 0 1 0 1 0 1 0 1 1 1 0 0 1 0 1 1 1 1 1 0 1 1 1 0 1 0 1 1 1 1 1 1 1 1\n",
            " 1 0 1 0 1 1 1 1 0 0 0 0 0 1 1 1 1 0 0 0 1 0 0 1 1 1 1 0 1 1 0 0 0 0 1 0 0\n",
            " 1 0 1 1 1 1 0 0 1 1 1 0 0 1 1 1 1 0 0 0 1 0 0 0 0 1]\n",
            "[0 1 0 0 1 0 1 0 1 0 1 0 1 0 0 1 0 1 1 1 1 1 0 1 1 1 0 1 0 1 1 1 1 0 1 1 1\n",
            " 1 0 1 0 1 1 1 0 1 0 0 0 0 1 1 1 1 0 0 0 1 0 0 1 1 1 1 0 1 1 0 0 0 1 1 0 0\n",
            " 1 0 1 1 1 1 1 1 0 1 1 1 0 1 0 1 1 0 0 0 1 0 0 0 0 1]\n"
          ]
        }
      ]
    },
    {
      "cell_type": "code",
      "source": [
        "tn, fp, fn, tp = conf_matrix.ravel()\n",
        "specificity = tn / (tn + fp)\n",
        "recall = tp / (tp + fn)\n",
        "precision = tp / (tp + fp)\n",
        "f1_score = 2 * precision * recall / (precision + recall)\n",
        "\n",
        "y_pred_proba = knn.predict_proba(x_test)\n",
        "fpr, tpr, thresholds = roc_curve(y_test, y_pred_proba[:, 1])\n",
        "auc_score = auc(fpr, tpr)\n",
        "plt.plot(fpr, tpr, label='ROC curve (area = %0.2f)' % auc_score)\n",
        "plt.plot([0, 1], [0, 1], 'k--')\n",
        "plt.xlabel('False Positive Rate')\n",
        "plt.ylabel('True Positive Rate')\n",
        "plt.title('Receiver Operating Characteristic (ROC) Curve')\n",
        "plt.legend(loc=\"lower right\")\n",
        "plt.show()\n",
        "\n",
        "print(\"Confusion Matrix:\\n\", conf_matrix)\n",
        "print(\"Accuracy: \", accuracy)\n",
        "print(\"Specificity: \", specificity)\n",
        "print(\"Recall: \", recall)\n",
        "print(\"Precision: \", precision)\n",
        "print(\"F1-score: \", f1_score)\n",
        "print(\"Classification Report:\\n\", report)\n",
        "print(\"AUC score: \", auc_score)\n",
        "print(\"True positive: \",tp)\n",
        "print(\"True negative: \", tn)"
      ],
      "metadata": {
        "colab": {
          "base_uri": "https://localhost:8080/",
          "height": 659
        },
        "id": "vlTBZiYbxaow",
        "outputId": "d20032a5-caf9-4ee4-cf0b-88a5d7a08cc0"
      },
      "execution_count": null,
      "outputs": [
        {
          "output_type": "display_data",
          "data": {
            "text/plain": [
              "<Figure size 432x288 with 1 Axes>"
            ],
            "image/png": "[encoded data removed]"
          },
          "metadata": {
            "needs_background": "light"
          }
        },
        {
          "output_type": "stream",
          "name": "stdout",
          "text": [
            "Confusion Matrix:\n",
            " [[36  7]\n",
            " [ 4 53]]\n",
            "Accuracy:  0.89\n",
            "Specificity:  0.8372093023255814\n",
            "Recall:  0.9298245614035088\n",
            "Precision:  0.8833333333333333\n",
            "F1-score:  0.905982905982906\n",
            "Classification Report:\n",
            "               precision    recall  f1-score   support\n",
            "\n",
            "           0       0.90      0.84      0.87        43\n",
            "           1       0.88      0.93      0.91        57\n",
            "\n",
            "    accuracy                           0.89       100\n",
            "   macro avg       0.89      0.88      0.89       100\n",
            "weighted avg       0.89      0.89      0.89       100\n",
            "\n",
            "AUC score:  0.9273765809873521\n",
            "True positive:  53\n",
            "True negative:  36\n"
          ]
        }
      ]
    },
    {
      "cell_type": "code",
      "source": [
        "# k= 7\n",
        "knn = KNeighborsClassifier(n_neighbors=7)\n",
        "knn.fit(x_train,y_train)\n",
        "\n",
        "y_pred = knn.predict(x_test)\n",
        "print(y_pred)\n",
        "print(y_test)"
      ],
      "metadata": {
        "colab": {
          "base_uri": "https://localhost:8080/"
        },
        "id": "pY3jgvNjyV1D",
        "outputId": "022114ff-30e8-4219-bb75-1fb3cb199355"
      },
      "execution_count": null,
      "outputs": [
        {
          "output_type": "stream",
          "name": "stdout",
          "text": [
            "[0 1 0 0 1 0 1 0 1 0 1 1 1 0 0 1 0 1 1 1 1 1 0 1 1 1 0 1 0 1 1 1 1 1 1 1 1\n",
            " 1 0 1 0 1 1 1 1 0 0 0 0 0 1 1 1 1 0 0 0 1 0 0 1 1 1 1 0 1 1 0 0 0 0 1 0 0\n",
            " 1 1 1 1 1 1 0 0 1 1 1 1 0 1 1 1 1 0 0 0 1 0 0 0 0 1]\n",
            "[0 1 0 0 1 0 1 0 1 0 1 0 1 0 0 1 0 1 1 1 1 1 0 1 1 1 0 1 0 1 1 1 1 0 1 1 1\n",
            " 1 0 1 0 1 1 1 0 1 0 0 0 0 1 1 1 1 0 0 0 1 0 0 1 1 1 1 0 1 1 0 0 0 1 1 0 0\n",
            " 1 0 1 1 1 1 1 1 0 1 1 1 0 1 0 1 1 0 0 0 1 0 0 0 0 1]\n"
          ]
        }
      ]
    },
    {
      "cell_type": "code",
      "source": [
        "tn, fp, fn, tp = conf_matrix.ravel()\n",
        "specificity = tn / (tn + fp)\n",
        "recall = tp / (tp + fn)\n",
        "precision = tp / (tp + fp)\n",
        "f1_score = 2 * precision * recall / (precision + recall)\n",
        "\n",
        "y_pred_proba = knn.predict_proba(x_test)\n",
        "fpr, tpr, thresholds = roc_curve(y_test, y_pred_proba[:, 1])\n",
        "auc_score = auc(fpr, tpr)\n",
        "plt.plot(fpr, tpr, label='ROC curve (area = %0.2f)' % auc_score)\n",
        "plt.plot([0, 1], [0, 1], 'k--')\n",
        "plt.xlabel('False Positive Rate')\n",
        "plt.ylabel('True Positive Rate')\n",
        "plt.title('Receiver Operating Characteristic (ROC) Curve')\n",
        "plt.legend(loc=\"lower right\")\n",
        "plt.show()\n",
        "\n",
        "print(\"Confusion Matrix:\\n\", conf_matrix)\n",
        "print(\"Accuracy: \", accuracy)\n",
        "print(\"Specificity: \", specificity)\n",
        "print(\"Recall: \", recall)\n",
        "print(\"Precision: \", precision)\n",
        "print(\"F1-score: \", f1_score)\n",
        "print(\"Classification Report:\\n\", report)\n",
        "print(\"AUC score: \", auc_score)\n",
        "print(\"True positive: \",tp)\n",
        "print(\"True negative: \", tn)"
      ],
      "metadata": {
        "colab": {
          "base_uri": "https://localhost:8080/",
          "height": 659
        },
        "id": "WPCf4BQzyh89",
        "outputId": "cd09270b-f653-488f-bc8b-27cf1a36e27e"
      },
      "execution_count": null,
      "outputs": [
        {
          "output_type": "display_data",
          "data": {
            "text/plain": [
              "<Figure size 432x288 with 1 Axes>"
            ],
            "image/png": "[encoded data removed]"
          },
          "metadata": {
            "needs_background": "light"
          }
        },
        {
          "output_type": "stream",
          "name": "stdout",
          "text": [
            "Confusion Matrix:\n",
            " [[36  7]\n",
            " [ 4 53]]\n",
            "Accuracy:  0.89\n",
            "Specificity:  0.8372093023255814\n",
            "Recall:  0.9298245614035088\n",
            "Precision:  0.8833333333333333\n",
            "F1-score:  0.905982905982906\n",
            "Classification Report:\n",
            "               precision    recall  f1-score   support\n",
            "\n",
            "           0       0.90      0.84      0.87        43\n",
            "           1       0.88      0.93      0.91        57\n",
            "\n",
            "    accuracy                           0.89       100\n",
            "   macro avg       0.89      0.88      0.89       100\n",
            "weighted avg       0.89      0.89      0.89       100\n",
            "\n",
            "AUC score:  0.9361485108119135\n",
            "True positive:  53\n",
            "True negative:  36\n"
          ]
        }
      ]
    },
    {
      "cell_type": "code",
      "source": [
        "# k= 9\n",
        "knn = KNeighborsClassifier(n_neighbors=9)\n",
        "knn.fit(x_train,y_train)\n",
        "\n",
        "y_pred = knn.predict(x_test)\n",
        "print(y_pred)\n",
        "print(y_test)"
      ],
      "metadata": {
        "colab": {
          "base_uri": "https://localhost:8080/"
        },
        "id": "25RiosIKymvF",
        "outputId": "822100ef-0ced-413e-9fbe-f932b80c786e"
      },
      "execution_count": null,
      "outputs": [
        {
          "output_type": "stream",
          "name": "stdout",
          "text": [
            "[0 1 0 0 1 0 1 0 1 0 1 1 1 0 0 1 0 1 1 1 1 1 0 1 1 1 0 1 0 1 1 1 1 1 1 1 1\n",
            " 1 0 1 0 1 1 1 1 0 0 0 0 0 1 1 1 1 0 0 0 1 0 0 1 1 1 1 0 1 1 0 0 0 0 1 0 0\n",
            " 1 1 1 1 1 1 0 0 1 1 1 1 0 1 1 1 1 0 0 0 1 0 0 0 0 1]\n",
            "[0 1 0 0 1 0 1 0 1 0 1 0 1 0 0 1 0 1 1 1 1 1 0 1 1 1 0 1 0 1 1 1 1 0 1 1 1\n",
            " 1 0 1 0 1 1 1 0 1 0 0 0 0 1 1 1 1 0 0 0 1 0 0 1 1 1 1 0 1 1 0 0 0 1 1 0 0\n",
            " 1 0 1 1 1 1 1 1 0 1 1 1 0 1 0 1 1 0 0 0 1 0 0 0 0 1]\n"
          ]
        }
      ]
    },
    {
      "cell_type": "code",
      "source": [
        "tn, fp, fn, tp = conf_matrix.ravel()\n",
        "specificity = tn / (tn + fp)\n",
        "recall = tp / (tp + fn)\n",
        "precision = tp / (tp + fp)\n",
        "f1_score = 2 * precision * recall / (precision + recall)\n",
        "\n",
        "y_pred_proba = knn.predict_proba(x_test)\n",
        "fpr, tpr, thresholds = roc_curve(y_test, y_pred_proba[:, 1])\n",
        "auc_score = auc(fpr, tpr)\n",
        "plt.plot(fpr, tpr, label='ROC curve (area = %0.2f)' % auc_score)\n",
        "plt.plot([0, 1], [0, 1], 'k--')\n",
        "plt.xlabel('False Positive Rate')\n",
        "plt.ylabel('True Positive Rate')\n",
        "plt.title('Receiver Operating Characteristic (ROC) Curve')\n",
        "plt.legend(loc=\"lower right\")\n",
        "plt.show()\n",
        "\n",
        "print(\"Confusion Matrix:\\n\", conf_matrix)\n",
        "print(\"Accuracy: \", accuracy)\n",
        "print(\"Specificity: \", specificity)\n",
        "print(\"Recall: \", recall)\n",
        "print(\"Precision: \", precision)\n",
        "print(\"F1-score: \", f1_score)\n",
        "print(\"Classification Report:\\n\", report)\n",
        "print(\"AUC score: \", auc_score)\n",
        "print(\"True positive: \",tp)\n",
        "print(\"True negative: \", tn)"
      ],
      "metadata": {
        "colab": {
          "base_uri": "https://localhost:8080/",
          "height": 659
        },
        "id": "CX_RKYaOys-Z",
        "outputId": "19891bda-a01a-49ab-eeb8-81621e32f99e"
      },
      "execution_count": null,
      "outputs": [
        {
          "output_type": "display_data",
          "data": {
            "text/plain": [
              "<Figure size 432x288 with 1 Axes>"
            ],
            "image/png": "[encoded data removed]"
          },
          "metadata": {
            "needs_background": "light"
          }
        },
        {
          "output_type": "stream",
          "name": "stdout",
          "text": [
            "Confusion Matrix:\n",
            " [[36  7]\n",
            " [ 4 53]]\n",
            "Accuracy:  0.89\n",
            "Specificity:  0.8372093023255814\n",
            "Recall:  0.9298245614035088\n",
            "Precision:  0.8833333333333333\n",
            "F1-score:  0.905982905982906\n",
            "Classification Report:\n",
            "               precision    recall  f1-score   support\n",
            "\n",
            "           0       0.90      0.84      0.87        43\n",
            "           1       0.88      0.93      0.91        57\n",
            "\n",
            "    accuracy                           0.89       100\n",
            "   macro avg       0.89      0.88      0.89       100\n",
            "weighted avg       0.89      0.89      0.89       100\n",
            "\n",
            "AUC score:  0.952468380252958\n",
            "True positive:  53\n",
            "True negative:  36\n"
          ]
        }
      ]
    },
    {
      "cell_type": "code",
      "source": [
        "# k= 11\n",
        "knn = KNeighborsClassifier(n_neighbors=11)\n",
        "knn.fit(x_train,y_train)\n",
        "\n",
        "y_pred = knn.predict(x_test)\n",
        "print(y_pred)\n",
        "print(y_test)"
      ],
      "metadata": {
        "colab": {
          "base_uri": "https://localhost:8080/"
        },
        "id": "1exSCTVFy_BI",
        "outputId": "12731ab8-a8bf-4531-cc75-9b0fdb53f33e"
      },
      "execution_count": null,
      "outputs": [
        {
          "output_type": "stream",
          "name": "stdout",
          "text": [
            "[0 1 0 0 1 0 1 0 1 0 1 1 1 0 0 1 0 1 1 1 1 1 0 1 1 1 0 1 0 1 1 1 1 1 1 1 1\n",
            " 1 0 1 0 1 1 1 1 0 0 0 0 0 1 1 1 1 0 0 0 1 0 0 1 1 1 1 0 1 1 0 0 0 0 1 0 0\n",
            " 1 1 1 1 1 1 0 0 1 1 1 1 0 1 1 1 1 0 0 0 1 0 0 0 0 1]\n",
            "[0 1 0 0 1 0 1 0 1 0 1 0 1 0 0 1 0 1 1 1 1 1 0 1 1 1 0 1 0 1 1 1 1 0 1 1 1\n",
            " 1 0 1 0 1 1 1 0 1 0 0 0 0 1 1 1 1 0 0 0 1 0 0 1 1 1 1 0 1 1 0 0 0 1 1 0 0\n",
            " 1 0 1 1 1 1 1 1 0 1 1 1 0 1 0 1 1 0 0 0 1 0 0 0 0 1]\n"
          ]
        }
      ]
    },
    {
      "cell_type": "code",
      "source": [
        "tn, fp, fn, tp = conf_matrix.ravel()\n",
        "specificity = tn / (tn + fp)\n",
        "recall = tp / (tp + fn)\n",
        "precision = tp / (tp + fp)\n",
        "f1_score = 2 * precision * recall / (precision + recall)\n",
        "\n",
        "y_pred_proba = knn.predict_proba(x_test)\n",
        "fpr, tpr, thresholds = roc_curve(y_test, y_pred_proba[:, 1])\n",
        "auc_score = auc(fpr, tpr)\n",
        "plt.plot(fpr, tpr, label='ROC curve (area = %0.2f)' % auc_score)\n",
        "plt.plot([0, 1], [0, 1], 'k--')\n",
        "plt.xlabel('False Positive Rate')\n",
        "plt.ylabel('True Positive Rate')\n",
        "plt.title('Receiver Operating Characteristic (ROC) Curve')\n",
        "plt.legend(loc=\"lower right\")\n",
        "plt.show()\n",
        "\n",
        "print(\"Confusion Matrix:\\n\", conf_matrix)\n",
        "print(\"Accuracy: \", accuracy)\n",
        "print(\"Specificity: \", specificity)\n",
        "print(\"Recall: \", recall)\n",
        "print(\"Precision: \", precision)\n",
        "print(\"F1-score: \", f1_score)\n",
        "print(\"Classification Report:\\n\", report)\n",
        "print(\"AUC score: \", auc_score)\n",
        "print(\"True positive: \",tp)\n",
        "print(\"True negative: \", tn)"
      ],
      "metadata": {
        "colab": {
          "base_uri": "https://localhost:8080/",
          "height": 659
        },
        "id": "cHX66c9FzEgE",
        "outputId": "88319dd6-2f79-490e-b462-90416b116b92"
      },
      "execution_count": null,
      "outputs": [
        {
          "output_type": "display_data",
          "data": {
            "text/plain": [
              "<Figure size 432x288 with 1 Axes>"
            ],
            "image/png": "[encoded data removed]"
          },
          "metadata": {
            "needs_background": "light"
          }
        },
        {
          "output_type": "stream",
          "name": "stdout",
          "text": [
            "Confusion Matrix:\n",
            " [[36  7]\n",
            " [ 4 53]]\n",
            "Accuracy:  0.89\n",
            "Specificity:  0.8372093023255814\n",
            "Recall:  0.9298245614035088\n",
            "Precision:  0.8833333333333333\n",
            "F1-score:  0.905982905982906\n",
            "Classification Report:\n",
            "               precision    recall  f1-score   support\n",
            "\n",
            "           0       0.90      0.84      0.87        43\n",
            "           1       0.88      0.93      0.91        57\n",
            "\n",
            "    accuracy                           0.89       100\n",
            "   macro avg       0.89      0.88      0.89       100\n",
            "weighted avg       0.89      0.89      0.89       100\n",
            "\n",
            "AUC score:  0.9608323133414932\n",
            "True positive:  53\n",
            "True negative:  36\n"
          ]
        }
      ]
    },
    {
      "cell_type": "code",
      "source": [
        "#g\n",
        "from sklearn.cluster import KMeans\n",
        "wcss=[]\n",
        "\n",
        "for i in range(1,11):\n",
        "    kmeans = KMeans(n_clusters= i, init='k-means++', random_state=0)\n",
        "    kmeans.fit(X)\n",
        "    wcss.append(kmeans.inertia_)\n"
      ],
      "metadata": {
        "colab": {
          "base_uri": "https://localhost:8080/"
        },
        "id": "jwAT7jjt3E-E",
        "outputId": "8eedc225-e313-4a5b-aec2-11f20a0bbf7e"
      },
      "execution_count": null,
      "outputs": [
        {
          "output_type": "stream",
          "name": "stderr",
          "text": [
            "/usr/local/lib/python3.8/dist-packages/sklearn/cluster/_kmeans.py:870: FutureWarning: The default value of `n_init` will change from 10 to 'auto' in 1.4. Set the value of `n_init` explicitly to suppress the warning\n",
            "  warnings.warn(\n",
            "/usr/local/lib/python3.8/dist-packages/sklearn/cluster/_kmeans.py:870: FutureWarning: The default value of `n_init` will change from 10 to 'auto' in 1.4. Set the value of `n_init` explicitly to suppress the warning\n",
            "  warnings.warn(\n",
            "/usr/local/lib/python3.8/dist-packages/sklearn/cluster/_kmeans.py:870: FutureWarning: The default value of `n_init` will change from 10 to 'auto' in 1.4. Set the value of `n_init` explicitly to suppress the warning\n",
            "  warnings.warn(\n",
            "<ipython-input-68-ab2ed02912d1>:7: ConvergenceWarning: Number of distinct clusters (2) found smaller than n_clusters (3). Possibly due to duplicate points in X.\n",
            "  kmeans.fit(X)\n",
            "/usr/local/lib/python3.8/dist-packages/sklearn/cluster/_kmeans.py:870: FutureWarning: The default value of `n_init` will change from 10 to 'auto' in 1.4. Set the value of `n_init` explicitly to suppress the warning\n",
            "  warnings.warn(\n",
            "<ipython-input-68-ab2ed02912d1>:7: ConvergenceWarning: Number of distinct clusters (2) found smaller than n_clusters (4). Possibly due to duplicate points in X.\n",
            "  kmeans.fit(X)\n",
            "/usr/local/lib/python3.8/dist-packages/sklearn/cluster/_kmeans.py:870: FutureWarning: The default value of `n_init` will change from 10 to 'auto' in 1.4. Set the value of `n_init` explicitly to suppress the warning\n",
            "  warnings.warn(\n",
            "<ipython-input-68-ab2ed02912d1>:7: ConvergenceWarning: Number of distinct clusters (2) found smaller than n_clusters (5). Possibly due to duplicate points in X.\n",
            "  kmeans.fit(X)\n",
            "/usr/local/lib/python3.8/dist-packages/sklearn/cluster/_kmeans.py:870: FutureWarning: The default value of `n_init` will change from 10 to 'auto' in 1.4. Set the value of `n_init` explicitly to suppress the warning\n",
            "  warnings.warn(\n",
            "<ipython-input-68-ab2ed02912d1>:7: ConvergenceWarning: Number of distinct clusters (2) found smaller than n_clusters (6). Possibly due to duplicate points in X.\n",
            "  kmeans.fit(X)\n",
            "/usr/local/lib/python3.8/dist-packages/sklearn/cluster/_kmeans.py:870: FutureWarning: The default value of `n_init` will change from 10 to 'auto' in 1.4. Set the value of `n_init` explicitly to suppress the warning\n",
            "  warnings.warn(\n",
            "<ipython-input-68-ab2ed02912d1>:7: ConvergenceWarning: Number of distinct clusters (2) found smaller than n_clusters (7). Possibly due to duplicate points in X.\n",
            "  kmeans.fit(X)\n",
            "/usr/local/lib/python3.8/dist-packages/sklearn/cluster/_kmeans.py:870: FutureWarning: The default value of `n_init` will change from 10 to 'auto' in 1.4. Set the value of `n_init` explicitly to suppress the warning\n",
            "  warnings.warn(\n",
            "<ipython-input-68-ab2ed02912d1>:7: ConvergenceWarning: Number of distinct clusters (2) found smaller than n_clusters (8). Possibly due to duplicate points in X.\n",
            "  kmeans.fit(X)\n",
            "/usr/local/lib/python3.8/dist-packages/sklearn/cluster/_kmeans.py:870: FutureWarning: The default value of `n_init` will change from 10 to 'auto' in 1.4. Set the value of `n_init` explicitly to suppress the warning\n",
            "  warnings.warn(\n",
            "<ipython-input-68-ab2ed02912d1>:7: ConvergenceWarning: Number of distinct clusters (2) found smaller than n_clusters (9). Possibly due to duplicate points in X.\n",
            "  kmeans.fit(X)\n",
            "/usr/local/lib/python3.8/dist-packages/sklearn/cluster/_kmeans.py:870: FutureWarning: The default value of `n_init` will change from 10 to 'auto' in 1.4. Set the value of `n_init` explicitly to suppress the warning\n",
            "  warnings.warn(\n",
            "<ipython-input-68-ab2ed02912d1>:7: ConvergenceWarning: Number of distinct clusters (2) found smaller than n_clusters (10). Possibly due to duplicate points in X.\n",
            "  kmeans.fit(X)\n"
          ]
        }
      ]
    },
    {
      "cell_type": "code",
      "source": [
        "plt.plot(range(1,11), wcss)\n",
        "plt.title('The Elbow Method')\n",
        "plt.xlabel('no of clusters')\n",
        "plt.ylabel('wcss')\n",
        "plt.show()"
      ],
      "metadata": {
        "colab": {
          "base_uri": "https://localhost:8080/",
          "height": 295
        },
        "id": "O8Ef6NEG3L4D",
        "outputId": "9a5599e9-0a14-486b-ab65-22982c7144be"
      },
      "execution_count": null,
      "outputs": [
        {
          "output_type": "display_data",
          "data": {
            "text/plain": [
              "<Figure size 432x288 with 1 Axes>"
            ],
            "image/png": "[encoded data removed]"
          },
          "metadata": {
            "needs_background": "light"
          }
        }
      ]
    },
    {
      "cell_type": "markdown",
      "source": [
        "i. Analyse for which K value, the classification algorithm provides better performance.\n",
        "\n",
        "ans: Inferring the graph we could conclude that k=5 provides better performance"
      ],
      "metadata": {
        "id": "UYsoBkpX0npO"
      }
    }
  ]
}